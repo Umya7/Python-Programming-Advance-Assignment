{
 "cells": [
  {
   "cell_type": "markdown",
   "id": "d23a9694",
   "metadata": {},
   "source": [
    "### Assignment 10"
   ]
  },
  {
   "cell_type": "markdown",
   "id": "46bd0ab8",
   "metadata": {},
   "source": [
    "**Q.1.** Create a function that takes the width, height and character and returns a picture frame as a 2D list.\n",
    "\n",
    "**Examples**\n",
    "\n",
    "get_frame(4, 5, \"#\") ➞ [\n",
    "[\"####\"],\n",
    "[\"# #\"],\n",
    "[\"# #\"],\n",
    "[\"# #\"],\n",
    "[\"####\"]\n",
    "]\n",
    "\n",
    "#Frame is 4 characters wide and 5 characters tall.\n",
    "\n",
    "get_frame(10, 3, \"*\") ➞ [\n",
    "[\"**********\"],\n",
    "[\"* *\"],\n",
    "[\"**********\"]\n",
    "]\n",
    "\n",
    "#Frame is 10 characters and wide and 3 characters tall.\n",
    "\n",
    "get_frame(2, 5, \"0\") ➞ \"invalid\"\n",
    "\n",
    "#Frame&#39;s width is not more than 2."
   ]
  },
  {
   "cell_type": "markdown",
   "id": "73763463",
   "metadata": {},
   "source": [
    "**Answer :-**"
   ]
  },
  {
   "cell_type": "code",
   "execution_count": 1,
   "id": "41d0a578",
   "metadata": {},
   "outputs": [
    {
     "name": "stdout",
     "output_type": "stream",
     "text": [
      "[['####'], ['#  #'], ['#  #'], ['#  #'], ['####']]\n",
      "[['**********'], ['*        *'], ['**********']]\n",
      "[['++++++'], ['+    +'], ['+    +'], ['+    +'], ['+    +'], ['+    +'], ['++++++']]\n",
      "Invalid\n"
     ]
    }
   ],
   "source": [
    "def get_frame(w,t,char):\n",
    "    l = []\n",
    "    if w > 2:\n",
    "        for i in range(t):\n",
    "            l1 = []\n",
    "            if i == 0 or i == t-1:\n",
    "                l1.append(char*w)\n",
    "            else:\n",
    "                pattern = char + ' ' * (w-2) + char\n",
    "                l1.append(pattern)\n",
    "            l.append(l1)                \n",
    "        return l\n",
    "    else:\n",
    "        return 'Invalid'\n",
    "            \n",
    "print(get_frame(4,5,'#')) \n",
    "print(get_frame(10,3,'*'))\n",
    "print(get_frame(6,7,'+'))\n",
    "print(get_frame(2,5,'0'))"
   ]
  },
  {
   "cell_type": "markdown",
   "id": "f146e9b2",
   "metadata": {},
   "source": [
    "**Q.2.** Write three functions:\n",
    "1. boolean_and\n",
    "2. boolean_or\n",
    "3. boolean_xor\n",
    "\n",
    "These functions should evaluate a list of True and False values, starting from the leftmost element and evaluating pairwise.\n",
    "\n",
    "**Examples**\n",
    "\n",
    "boolean_and([True, True, False, True]) ➞ False\\\n",
    "#[True, True, False, True] =&gt; [True, False, True] =&gt; [False, True] => False\n",
    "\n",
    "boolean_or([True, True, False, False]) ➞ True\\\n",
    "#[True, True, False, True] =&gt; [True, False, False] =&gt; [True, False] => True\n",
    "\n",
    "boolean_xor([True, True, False, False]) ➞ False\\\n",
    "#[True, True, False, False] =&gt; [False, False, False] =&gt; [False, False] =>False"
   ]
  },
  {
   "cell_type": "markdown",
   "id": "03a46f34",
   "metadata": {},
   "source": [
    "**Answer :-**"
   ]
  },
  {
   "cell_type": "code",
   "execution_count": 2,
   "id": "71521b75",
   "metadata": {},
   "outputs": [
    {
     "name": "stdout",
     "output_type": "stream",
     "text": [
      "False\n",
      "True\n",
      "False\n"
     ]
    }
   ],
   "source": [
    "def boolean_and(l):\n",
    "    res = True\n",
    "    i = 0\n",
    "    while i < len(l):\n",
    "        res = res and l[i]\n",
    "        l.pop(i)\n",
    "        l[0] = res\n",
    "        length = len(l)\n",
    "        i += 1\n",
    "    return l[0] and l[1]\n",
    "\n",
    "def boolean_or(l):\n",
    "    res = False\n",
    "    i = 0\n",
    "    while i < len(l):\n",
    "        res = res or l[i]\n",
    "        l.pop(i)\n",
    "        l[0] = res\n",
    "        length = len(l)\n",
    "        i += 1\n",
    "    return l[0] or l[1]\n",
    "\n",
    "def boolean_xor(l):\n",
    "    res = True\n",
    "    i = 0\n",
    "    while i < len(l):\n",
    "        res = res ^ l[i]\n",
    "        l.pop(i)\n",
    "        l[0] = res\n",
    "        length = len(l)\n",
    "        i += 1\n",
    "    return l[0] ^ l[1]\n",
    "\n",
    "print(boolean_and([False, True, False, True]))        \n",
    "print(boolean_or([True, True, False, False])) \n",
    "print(boolean_xor([True, True, False, False]))"
   ]
  },
  {
   "cell_type": "markdown",
   "id": "88ea4e77",
   "metadata": {},
   "source": [
    "**Q.3.** Create a function that creates a box based on dimension n.\n",
    "\n",
    "**Examples**\n",
    "\n",
    "make_box(5) ➞ [\n",
    "\"#####\",\n",
    "\"# #\",\n",
    "\"# #\",\n",
    "\"# #\",\n",
    "\"#####\"\n",
    "]\n",
    "\n",
    "make_box(3) ➞ [\n",
    "\"###\",\n",
    "\"# #\",\n",
    "\"###\"\n",
    "]\n",
    "\n",
    "make_box(2) ➞ [\n",
    "\"##\",\n",
    "\"##\"\n",
    "]\n",
    "\n",
    "make_box(1) ➞ [\n",
    "\"#\"\n",
    "]"
   ]
  },
  {
   "cell_type": "markdown",
   "id": "8df2ce05",
   "metadata": {},
   "source": [
    "**Answer :-**"
   ]
  },
  {
   "cell_type": "code",
   "execution_count": 3,
   "id": "9d56790b",
   "metadata": {},
   "outputs": [
    {
     "name": "stdout",
     "output_type": "stream",
     "text": [
      "Output is::\n",
      "['#####', '#   #', '#   #', '#   #', '#####']\n",
      "Output is::\n",
      "['###', '# #', '###']\n",
      "Output is::\n",
      "['##', '##']\n",
      "Output is::\n",
      "['#']\n"
     ]
    }
   ],
   "source": [
    "def make_box(n):\n",
    "    l = []\n",
    "    print('Output is::')\n",
    "    for i in range(n):\n",
    "        pattern = ''\n",
    "        if i == 0 or i == n-1:\n",
    "            pattern += '#'*n\n",
    "        else:\n",
    "            pattern += '#' + ' ' * (n-2) + '#'\n",
    "        l.append(pattern)    \n",
    "    return l\n",
    "\n",
    "print(make_box(5))\n",
    "print(make_box(3))\n",
    "print(make_box(2))\n",
    "print(make_box(1))"
   ]
  },
  {
   "cell_type": "markdown",
   "id": "e790fd01",
   "metadata": {},
   "source": [
    "**Q.4.** Given a common phrase, return False if any individual word in the phrase contains duplicate letters. Return True otherwise.\n",
    "\n",
    "**Examples**\n",
    "\n",
    "no_duplicate_letters(\"Fortune favours the bold.\") ➞ True\n",
    "\n",
    "no_duplicate_letters(\"You can lead a horse to water, but you can&#39;t make him drink.\") ➞ True\n",
    "\n",
    "no_duplicate_letters(\"Look before you leap.\") ➞ False\\\n",
    "#Duplicate letters in \"Look\" and \"before\".\n",
    "\n",
    "no_duplicate_letters(\"An apple a day keeps the doctor away.\") ➞ False\\\n",
    "#Duplicate letters in \"apple\", \"keeps\", \"doctor\", and \"away\"."
   ]
  },
  {
   "cell_type": "markdown",
   "id": "5579f6a7",
   "metadata": {},
   "source": [
    "**Answer :-**"
   ]
  },
  {
   "cell_type": "code",
   "execution_count": 4,
   "id": "890887dc",
   "metadata": {},
   "outputs": [
    {
     "name": "stdout",
     "output_type": "stream",
     "text": [
      "True\n",
      "True\n",
      "False\n",
      "False\n"
     ]
    }
   ],
   "source": [
    "def no_duplicate_letters(s):\n",
    "    words = s.split()\n",
    "    for word in words:\n",
    "        for letter in word:\n",
    "            if word.count(letter) > 1:\n",
    "                return False\n",
    "\n",
    "    return True\n",
    "        \n",
    "print(no_duplicate_letters(\"Fortune favours the bold.\"))\n",
    "print(no_duplicate_letters(\"You can lead a horse to water, but you can't make him drink.\"))\n",
    "print(no_duplicate_letters(\"Look before you leap.\"))\n",
    "print(no_duplicate_letters(\"An apple a day keeps the doctor away.\"))"
   ]
  },
  {
   "cell_type": "markdown",
   "id": "d7d4a0ec",
   "metadata": {},
   "source": [
    "**Q.5.** Write a regular expression that will match the states that voted yes to President Trump's impeachment. You must use RegEx positive lookahead.\n",
    "\n",
    "**Example**\n",
    "\n",
    "txt = \"Texas = no, California = yes, Florida = yes, Michigan = no\"\n",
    "\n",
    "pattern = \"yourregularexpressionhere\"\n",
    "\n",
    "re.findall(pattern, txt) ➞ [\"California\", \"Florida\"]"
   ]
  },
  {
   "cell_type": "markdown",
   "id": "92a2cafe",
   "metadata": {},
   "source": [
    "**Answer :-**"
   ]
  },
  {
   "cell_type": "code",
   "execution_count": 5,
   "id": "0d5c06b9",
   "metadata": {},
   "outputs": [
    {
     "name": "stdout",
     "output_type": "stream",
     "text": [
      "['California', 'Florida']\n"
     ]
    }
   ],
   "source": [
    "import re\n",
    "\n",
    "txt = \"Texas = no, California = yes, Florida = yes, Michigan = no\" \n",
    "\n",
    "pattern = r'[a-zA-Z]+(?= = yes)'\n",
    "\n",
    "match = re.findall(pattern, txt)\n",
    "\n",
    "print(match)"
   ]
  }
 ],
 "metadata": {
  "kernelspec": {
   "display_name": "Python 3",
   "language": "python",
   "name": "python3"
  },
  "language_info": {
   "codemirror_mode": {
    "name": "ipython",
    "version": 3
   },
   "file_extension": ".py",
   "mimetype": "text/x-python",
   "name": "python",
   "nbconvert_exporter": "python",
   "pygments_lexer": "ipython3",
   "version": "3.8.8"
  }
 },
 "nbformat": 4,
 "nbformat_minor": 5
}
