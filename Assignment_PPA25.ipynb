{
 "cells": [
  {
   "cell_type": "markdown",
   "id": "b9c7cb31",
   "metadata": {},
   "source": [
    "### Assignment 25"
   ]
  },
  {
   "cell_type": "markdown",
   "id": "802202bc",
   "metadata": {},
   "source": [
    "**Q.1.** Write four functions that directly mutate a list:\n",
    "\n",
    "1. repeat(lst, n): Repeat lst n times.\n",
    "2. add(lst, x): Adds x to the end of the lst.\n",
    "3. remove(lst, m, n): Removes all elements between indices m and n inclusive in lst.\n",
    "4. concat(lst, x): concatenates lst with x (another list).\n",
    "    \n",
    "**Examples**\n",
    "\n",
    "lst = [1, 2, 3, 4]\n",
    "\n",
    "repeat(lst, 3) ➞ [1, 2, 3, 4, 1, 2, 3, 4, 1, 2, 3, 4]\n",
    "\n",
    "add(lst, 1) ➞ [1, 2, 3, 4, 1, 2, 3, 4, 1, 2, 3, 4, 1]\n",
    "\n",
    "remove(lst, 1, 12) ➞ [1]\n",
    "\n",
    "concat(lst, [3, 4]) ➞ [1, 3, 4]"
   ]
  },
  {
   "cell_type": "markdown",
   "id": "25f614c7",
   "metadata": {},
   "source": [
    "**Answer :-**"
   ]
  },
  {
   "cell_type": "code",
   "execution_count": 1,
   "id": "72002bf6",
   "metadata": {},
   "outputs": [
    {
     "name": "stdout",
     "output_type": "stream",
     "text": [
      "repeat(3) ➞ [1, 2, 3, 4, 1, 2, 3, 4, 1, 2, 3, 4]\n",
      "add(1) ➞ [1, 2, 3, 4, 1, 2, 3, 4, 1, 2, 3, 4, 1]\n",
      "remove(lst, 1, 12) ➞ [1]\n",
      "concat([3, 4]) ➞ [1, 3, 4]\n"
     ]
    }
   ],
   "source": [
    "lst = [1, 2, 3, 4]\n",
    "\n",
    "def repeat(in_num):\n",
    "    global lst\n",
    "    lst = lst*in_num\n",
    "    return lst\n",
    "\n",
    "def add(in_num):\n",
    "    global lst\n",
    "    lst.append(in_num)\n",
    "    return lst\n",
    "\n",
    "def remove(start,end):\n",
    "    global lst\n",
    "    for ele in lst[start:end+1]:\n",
    "        lst.remove(ele)\n",
    "    return lst\n",
    "\n",
    "def concat(in_list):\n",
    "    global lst\n",
    "    lst = lst+in_list\n",
    "    return lst\n",
    "\n",
    "print(f'repeat(3) ➞ {repeat(3)}')\n",
    "print(f'add(1) ➞ {add(1)}')\n",
    "print(f'remove(lst, 1, 12) ➞ {remove(1,12)}')\n",
    "print(f'concat([3, 4]) ➞ {concat([3, 4])}')"
   ]
  },
  {
   "cell_type": "markdown",
   "id": "d2e985b9",
   "metadata": {},
   "source": [
    "**Q.2.** The classic game of Mastermind is played on a tray on which the Mastermind conceals a code and the Guesser has 10 tries to guess it. The code is a sequence of 4 (or 6, sometimes more) pegs of different colors. Each guess is a corresponding sequence of 4 (or more) pegs of different colors. A guess is \"correct\" when the color of every peg in the guess exactly matches the corresponding peg in the Mastermind's code.\n",
    "\n",
    "After each guess by the Guesser, the Mastermind will give a score comprising black & white pegs, not arranged in any order:\n",
    "\n",
    "- Black peg == guess peg matches the color of a code peg in the same position.\n",
    "- White peg == guess peg matches the color of a code peg in another position.\n",
    "\n",
    "Create a function that takes two strings, code and guess as arguments, and returns the score in a dictionary.\n",
    "\n",
    "- The code and guess are strings of numeric digits\n",
    "- The color of the pegs are represented by numeric digits\n",
    "- no \"peg\" may be double-scored\n",
    "\n",
    "Examples\n",
    "<code>\n",
    "guess_score(\"1423\", \"5678\") ➞ {\"black\": 0, \"white\": 0}\n",
    "guess_score(\"1423\", \"2222\") ➞ {\"black\": 1, \"white\": 0}\n",
    "guess_score(\"1423\", \"1234\") ➞ {\"black\": 1, \"white\": 3}\n",
    "guess_score(\"1423\", \"2211\") ➞ {\"black\": 0, \"white\": 2}\n",
    "</code>"
   ]
  },
  {
   "cell_type": "markdown",
   "id": "26cb564c",
   "metadata": {},
   "source": [
    "**Answer :-**"
   ]
  },
  {
   "cell_type": "code",
   "execution_count": 2,
   "id": "562be4de",
   "metadata": {},
   "outputs": [
    {
     "name": "stdout",
     "output_type": "stream",
     "text": [
      "guess_score('1423', '5678') ➞ {'black': 0, 'white': 0}\n",
      "guess_score('1423', '2222') ➞ {'black': 1, 'white': 0}\n",
      "guess_score('1423', '1234') ➞ {'black': 1, 'white': 3}\n",
      "guess_score('1423', '2211') ➞ {'black': 0, 'white': 2}\n"
     ]
    }
   ],
   "source": [
    "def guess_score(code,guess):\n",
    "    output = {\"black\":0,\"white\":0}\n",
    "    for ele in range(len(code)): \n",
    "        if code[ele] == guess[ele]:\n",
    "            output['black'] += 1\n",
    "        elif code[ele] in guess and ele != guess.index(code[ele]):\n",
    "            output['white'] += 1\n",
    "    print(f'guess_score{code,guess} ➞ {output}')\n",
    "        \n",
    "guess_score(\"1423\", \"5678\")\n",
    "guess_score(\"1423\", \"2222\")\n",
    "guess_score(\"1423\", \"1234\") \n",
    "guess_score(\"1423\", \"2211\")"
   ]
  },
  {
   "cell_type": "markdown",
   "id": "67fdf1df",
   "metadata": {},
   "source": [
    "**Q.3.** Create a function that takes a list lst and a number N and returns a list of two integers from lst whose product equals N.\n",
    "\n",
    "**Examples**\n",
    "\n",
    "two_product([1, 2, -1, 4, 5], 20) ➞ [4, 5]\n",
    "\n",
    "two_product([1, 2, 3, 4, 5], 10) ➞ [2, 5]\n",
    "\n",
    "two_product([100, 12, 4, 1, 2], 15) ➞ None"
   ]
  },
  {
   "cell_type": "markdown",
   "id": "b4101069",
   "metadata": {},
   "source": [
    "**Answer :-**"
   ]
  },
  {
   "cell_type": "code",
   "execution_count": 3,
   "id": "fde8bc7c",
   "metadata": {},
   "outputs": [
    {
     "name": "stdout",
     "output_type": "stream",
     "text": [
      "[4, 5]\n",
      "[2, 5]\n",
      "[]\n"
     ]
    }
   ],
   "source": [
    "def two_product(lst, n):\n",
    "    lst = sorted(lst,reverse = True)\n",
    "    divisors = []\n",
    "    for i in range(len(lst)):\n",
    "        for j in range(i+1,len(lst)):\n",
    "            if lst[i]*lst[j] == n:\n",
    "                divisors.append(lst[i])            \n",
    "                divisors.append(lst[j])\n",
    "                break            \n",
    "    return sorted(divisors)\n",
    "\n",
    "print(two_product([1, 2, -1, 4, 5], 20))\n",
    "print(two_product([1, 2, 3, 4, 5], 10))\n",
    "print(two_product([100, 12, 4, 1, 2], 15))"
   ]
  },
  {
   "cell_type": "markdown",
   "id": "db81f771",
   "metadata": {},
   "source": [
    "**Q.4.** In this challenge, sort a list containing a series of dates given as strings. Each date is given in the format DD-MM-YYYY_HH:MM:\n",
    "        \n",
    "\"12-02-2012_13:44\"\n",
    "\n",
    "The priority of criteria used for sorting will be:\n",
    "- Year\n",
    "- Month\n",
    "- Day\n",
    "- Hours\n",
    "- Minutes\n",
    "\n",
    "Given a list lst and a string mode, implement a function that returns:\n",
    "- if mode is equal to \"ASC\", the list lst sorted in ascending order.\n",
    "- if mode is equal to \"DSC\", the list lst sorted in descending order.\n",
    "\n",
    "**Examples**\n",
    "\n",
    "sort_dates([\"10-02-2018_12:30\", \"10-02-2016_12:30\", \"10-02-2018_12:15\"], \"ASC\") ➞ [\"10-02-2016_12:30\", \"10-02-2018_12:15\", \"10-02-2018_12:30\"]\n",
    "\n",
    "sort_dates([\"10-02-2018_12:30\", \"10-02-2016_12:30\", \"10-02-2018_12:15\"], \"DSC\") ➞ [\"10-02-2018_12:30\", \"10-02-2018_12:15\", \"10-02-2016_12:30\"]\n",
    "\n",
    "sort_dates([\"09-02-2000_10:03\", \"10-02-2000_18:29\", \"01-01-1999_00:55\"], \"ASC\") ➞ [\"01-01-1999_00:55\", \"09-02-2000_10:03\", \"10-02-2000_18:29\"]"
   ]
  },
  {
   "cell_type": "markdown",
   "id": "ad8fc875",
   "metadata": {},
   "source": [
    "**Answer :-**"
   ]
  },
  {
   "cell_type": "code",
   "execution_count": 4,
   "id": "b6d55381",
   "metadata": {},
   "outputs": [
    {
     "name": "stdout",
     "output_type": "stream",
     "text": [
      "Sorting in Ascending order\n",
      "['10-02-2016_12:30', '10-02-2018_12:15', '10-02-2018_12:30']\n",
      "Sorting in Descending order\n",
      "['10-02-2018_12:30', '10-02-2018_12:15', '10-02-2016_12:30']\n",
      "Sorting in Ascending order\n",
      "['01-01-1999_00:55', '09-02-2000_10:03', '10-02-2000_18:29']\n"
     ]
    }
   ],
   "source": [
    "import datetime\n",
    "def sort_dates(d, sort):\n",
    "    if sort == 'ASC':\n",
    "        print(\"Sorting in Ascending order\")\n",
    "        return sorted(d, key=lambda x: datetime.datetime.strptime(x, '%d-%m-%Y_%H:%M'), reverse = False)\n",
    "    elif sort == 'DSC':\n",
    "        print(\"Sorting in Descending order\")\n",
    "        return sorted(d, key=lambda x: datetime.datetime.strptime(x, '%d-%m-%Y_%H:%M'), reverse = True)\n",
    "    else:\n",
    "        print(\"Provide right sorting order\")\n",
    "        \n",
    "print(sort_dates(['10-02-2018_12:30', '10-02-2016_12:30', '10-02-2018_12:15'],'ASC'))\n",
    "print(sort_dates(['10-02-2018_12:30', '10-02-2016_12:30', '10-02-2018_12:15'],'DSC'))\n",
    "print(sort_dates(['09-02-2000_10:03', '10-02-2000_18:29', '01-01-1999_00:55'],'ASC'))"
   ]
  },
  {
   "cell_type": "markdown",
   "id": "d5f680d0",
   "metadata": {},
   "source": [
    "**Q.5.** Write a function that selects all words that have all the same vowels (in any order and/or number) as the first word, including the first word.\n",
    "\n",
    "**Examples**\n",
    "\n",
    "same_vowel_group([\"toe\", \"ocelot\", \"maniac\"]) ➞ [\"toe\", \"ocelot\"]\n",
    "\n",
    "same_vowel_group([\"many\", \"carriage\", \"emit\", \"apricot\", \"animal\"]) ➞[\"many\"]\n",
    "\n",
    "same_vowel_group([\"hoops\", \"chuff\", \"bot\", \"bottom\"]) ➞ [\"hoops\", \"bot\",\"bottom\"]"
   ]
  },
  {
   "cell_type": "markdown",
   "id": "b630dac7",
   "metadata": {},
   "source": [
    "**Answer :-**"
   ]
  },
  {
   "cell_type": "code",
   "execution_count": 5,
   "id": "be60ac08",
   "metadata": {},
   "outputs": [
    {
     "name": "stdout",
     "output_type": "stream",
     "text": [
      "['toe', 'ocelot']\n",
      "['many']\n",
      "['hoops', 'bot', 'bottom']\n"
     ]
    }
   ],
   "source": [
    "def findVowelInWord(word):\n",
    "    vowel = 'aeiou'\n",
    "    lstvowstr = ''    \n",
    "    for i in range(len(word)):        \n",
    "        if word[i] in vowel:\n",
    "            lstvowstr = lstvowstr + word[i]\n",
    "    return ''.join(set(lstvowstr)) # find the unique vowels in the word\n",
    "\n",
    "\n",
    "def same_vowel_group(lst):\n",
    "    vowel = 'aeiou'\n",
    "    resultlst = []\n",
    "    test = findVowelInWord(lst[0])   # find the vowels in each word of the list     \n",
    "    resultlst.append(lst[0]) # append the first word in to list\n",
    "    for i in range(1,len(lst)):\n",
    "        vowWord = findVowelInWord(lst[i])\n",
    "        if test == vowWord: # check the vowel of each word with first word in the list\n",
    "            resultlst.append(lst[i])\n",
    "    return resultlst\n",
    "\n",
    "print(same_vowel_group(['toe', 'ocelot', 'maniac']))\n",
    "print(same_vowel_group(['many', 'carriage', 'emit', 'apricot', 'animal']))\n",
    "print(same_vowel_group(['hoops', 'chuff', 'bot', 'bottom']))"
   ]
  },
  {
   "cell_type": "markdown",
   "id": "39dfa130",
   "metadata": {},
   "source": [
    "**Q.6.** 6. Create a function that takes a list of more than three numbers and returns the Least Common Multiple (LCM).\n",
    "\n",
    "**Examples**\n",
    "\n",
    "lcm_of_list([1, 2, 3, 4, 5, 6, 7, 8, 9, 10]) ➞ 2520\n",
    "\n",
    "lcm_of_list([13, 6, 17, 18, 19, 20, 37]) ➞ 27965340\n",
    "\n",
    "lcm_of_list([44, 64, 12, 17, 65]) ➞ 2333760"
   ]
  },
  {
   "cell_type": "markdown",
   "id": "e64d07b1",
   "metadata": {},
   "source": [
    "**Answer :-**"
   ]
  },
  {
   "cell_type": "code",
   "execution_count": 6,
   "id": "10c64bc6",
   "metadata": {},
   "outputs": [
    {
     "name": "stdout",
     "output_type": "stream",
     "text": [
      "2520\n",
      "27965340\n",
      "2333760\n"
     ]
    }
   ],
   "source": [
    "from math import gcd\n",
    "def lcm_of_list(lst):\n",
    "    a = [100, 200, 150]   \n",
    "    lcm = 1\n",
    "    for i in lst:\n",
    "        lcm = lcm*i//gcd(lcm, i)\n",
    "    return lcm\n",
    "\n",
    "print(lcm_of_list([1, 2, 3, 4, 5, 6, 7, 8, 9, 10]))\n",
    "print(lcm_of_list([13, 6, 17, 18, 19, 20, 37]))\n",
    "print(lcm_of_list([44, 64, 12, 17, 65]))"
   ]
  }
 ],
 "metadata": {
  "kernelspec": {
   "display_name": "Python 3",
   "language": "python",
   "name": "python3"
  },
  "language_info": {
   "codemirror_mode": {
    "name": "ipython",
    "version": 3
   },
   "file_extension": ".py",
   "mimetype": "text/x-python",
   "name": "python",
   "nbconvert_exporter": "python",
   "pygments_lexer": "ipython3",
   "version": "3.8.8"
  }
 },
 "nbformat": 4,
 "nbformat_minor": 5
}
