{
 "cells": [
  {
   "cell_type": "markdown",
   "id": "0ebee331",
   "metadata": {},
   "source": [
    "## Assignment 1"
   ]
  },
  {
   "cell_type": "markdown",
   "id": "327eb4f1",
   "metadata": {},
   "source": [
    "**Q.1.** Write a function that takes a list of lists and returns the value of all of the\n",
    "symbols in it, where each symbol adds or takes something from the total\n",
    "score.\n",
    "Symbol values:\n",
    "    # = 5\n",
    "    O = 3\n",
    "    X = 1\n",
    "    ! = -1\n",
    "    !! = -3\n",
    "    !!! = -5\n",
    "\n",
    "A list of lists containing 2 #s, a O, and a !!! would equal (0 + 5 + 5 + 3 - 5) 8.\n",
    "\n",
    "If the final score is negative, return 0 (e.g. 3 #s, 3 !!s, 2 !!!s and a X would be\n",
    "(0 + 5 + 5 + 5 - 3 - 3 - 3 - 5 - 5 + 1) -3, so return 0.\n",
    "                                          \n",
    "Examples\n",
    "\n",
    "check_score([\n",
    "[\"#\", \"!\"],\n",
    "[\"!!\", \"X\"]\n",
    "]) ➞ 2\n",
    "                                          \n",
    "check_score([\n",
    "[\"!!!\", \"O\", \"!\"],\n",
    "[\"X\", \"#\", \"!!!\"],\n",
    "[\"!!\", \"X\", \"O\"]\n",
    "]) ➞ 0"
   ]
  },
  {
   "cell_type": "markdown",
   "id": "520fecc7",
   "metadata": {},
   "source": [
    "**Answer :-**"
   ]
  },
  {
   "cell_type": "code",
   "execution_count": 1,
   "id": "c2e82087",
   "metadata": {},
   "outputs": [
    {
     "name": "stdout",
     "output_type": "stream",
     "text": [
      "2\n",
      "0\n",
      "0\n"
     ]
    }
   ],
   "source": [
    "def check_score(l):\n",
    "    d = {'#': 5, 'O' : 3, 'X' : 1, '!' : -1 , '!!' : -3 , '!!!' : -5}\n",
    "    score = 0\n",
    "    for sub_list in l:\n",
    "        for i in sub_list:\n",
    "            score += d[i]\n",
    "            \n",
    "    if score < 0:\n",
    "        return 0\n",
    "    else:\n",
    "        return score\n",
    "    \n",
    "print(check_score([[\"#\", \"!\"], [\"!!\", \"X\"]]))\n",
    "print(check_score([ [\"!!!\", \"O\", \"!\"], [\"X\", \"#\", \"!!!\"], [\"!!\", \"X\", \"O\"] ]))\n",
    "print(check_score([[\"#\",\"#\",\"#\"],[\"!!\",\"!!\",\"!!\"],[\"!!!\",\"!!!\"],[\"X\"]]))"
   ]
  },
  {
   "cell_type": "markdown",
   "id": "27096718",
   "metadata": {},
   "source": [
    "**Q.2.** Create a function that takes a variable number of arguments, each\n",
    "argument representing the number of items in a group, and returns the\n",
    "number of permutations (combinations) of items that you could get by taking\n",
    "one item from each group.\n",
    "\n",
    "Examples :\n",
    "    \n",
    "combinations(2, 3) ➞ 6\\\n",
    "combinations(3, 7, 4) ➞ 84\\\n",
    "combinations(2, 3, 4, 5) ➞ 120"
   ]
  },
  {
   "cell_type": "markdown",
   "id": "9e8a145d",
   "metadata": {},
   "source": [
    "**Answer :-**"
   ]
  },
  {
   "cell_type": "code",
   "execution_count": 2,
   "id": "b7d18a61",
   "metadata": {},
   "outputs": [
    {
     "name": "stdout",
     "output_type": "stream",
     "text": [
      "6\n",
      "84\n",
      "120\n"
     ]
    }
   ],
   "source": [
    "def combinations(*args):\n",
    "    n = 1\n",
    "    \n",
    "    for i in args:\n",
    "        n *= i\n",
    "        \n",
    "    return n\n",
    "\n",
    "print(combinations(2, 3))\n",
    "print(combinations(3, 7, 4))\n",
    "print(combinations(2, 3, 4, 5))"
   ]
  },
  {
   "cell_type": "markdown",
   "id": "ee0fdeb5",
   "metadata": {},
   "source": [
    "**Q.3.** Create a function that takes a string as an argument and returns the Morse\n",
    "code equivalent.\n",
    "\n",
    "Examples\n",
    "\n",
    "encode_morse(\"EDABBIT CHALLENGE\") ➞ \"\". -.. .- -... -... .. - -.-. .... .- .-.. .-... -. --. .\"\n",
    "\n",
    "encode_morse(\"HELP ME !\") ➞ \".... . .-.. .--. -- . -.-.--\"\n",
    "\n",
    "This dictionary can be used for coding:\n",
    "    \n",
    "char_to_dots = {\n",
    "'A': '.-', 'B': '-...', 'C': '-.-.', 'D': '-..', 'E': '.', 'F': '..-.',\\\n",
    "'G': '--.', 'H': '....', 'I': '..', 'J': '.---', 'K': '-.-', 'L': '.-..',\\\n",
    "'M': '--', 'N': '-.', 'O': '---', 'P': '.--.', 'Q': '--.-', 'R': '.-.',\\\n",
    "'S': '...', 'T': '-', 'U': '..-', 'V': '...-', 'W': '.--', 'X': '-..-',\\\n",
    "'Y': '-.--', 'Z': '--..', ' ': ' ', '0': '-----',\\\n",
    "'1': '.----', '2': '..---', '3': '...--', '4': '....-', '5': '.....',\\\n",
    "'6': '-....', '7': '--...', '8': '---..', '9': '----.',\\\n",
    "'&;': '.-...', \"\"'': '.----.', '@': '.--.-.', ')': '-.--.-', '(': '-.--.',\\\n",
    "':': '---...', ',': '--..--', '=': '-...-', '!': '-.-.--', '.': '.-.-.-',\\\n",
    "'-': '-....-', '+': '.-.-.', \"\": '.-..-.', '?': '..--..', '/': '-..-.'\\\n",
    "}"
   ]
  },
  {
   "cell_type": "markdown",
   "id": "ce4a2297",
   "metadata": {},
   "source": [
    "**Answer :-**"
   ]
  },
  {
   "cell_type": "code",
   "execution_count": 3,
   "id": "697f1266",
   "metadata": {},
   "outputs": [
    {
     "name": "stdout",
     "output_type": "stream",
     "text": [
      " . -.. .- -... -... .. - -.-. .... .- .-.. .-.. . -. --. .\n",
      " .... . .-.. .--. -- . -.-.--\n"
     ]
    }
   ],
   "source": [
    "def encode_morse(s):\n",
    "    char_to_dots = { 'A': '.-', 'B': '-...', 'C': '-.-.', 'D': '-..', 'E': '.', 'F': '..-.', 'G': '--.', 'H': '....', 'I': '..', 'J': '.---', 'K': '-.-', 'L': '.-..', 'M': '--', 'N': '-.', 'O': '---', 'P': '.--.', 'Q': '--.-', 'R': '.-.', 'S': '...', 'T': '-', 'U': '..-', 'V': '...-', 'W': '.--', 'X': '-..-', 'Y': '-.--', 'Z': '--..', ' ': ' ', '0': '-----', '1': '.----', '2': '..---', '3': '...--', '4': '....-', '5': '.....', '6': '-....', '7': '--...', '8': '---..', '9': '----.', '&': '.-...', \"'\": '.----.', '@': '.--.-.', ')': '-.--.-', '(': '-.--.', ':': '---...', ',': '--..--', '=': '-...-', '!': '-.-.--', '.': '.-.-.-', '-': '-....-', '+': '.-.-.', '\"': '.-..-.', '?': '..--..', '/': '-..-.' }\n",
    "    result = \"\"\n",
    "    \n",
    "    for letter in s:\n",
    "        if letter != ' ':\n",
    "            result += ' ' + char_to_dots[letter]\n",
    "        \n",
    "    return result    \n",
    "\n",
    "print(encode_morse(\"EDABBIT CHALLENGE\"))\n",
    "print(encode_morse(\"HELP ME !\"))"
   ]
  },
  {
   "cell_type": "markdown",
   "id": "abb34f79",
   "metadata": {},
   "source": [
    "**Q.4.** Write a function that takes a number and returns True if it's a prime; False\n",
    "otherwise. The number can be 2^64-1 (2 to the power of 63, not XOR). With\n",
    "the standard technique it would be O(2^64-1), which is much too large for the\n",
    "10 second time limit.\n",
    "\n",
    "Examples\n",
    "\n",
    "prime(7) ➞ True\n",
    "\n",
    "prime(56963) ➞ True\n",
    "\n",
    "prime(5151512515524) ➞ False"
   ]
  },
  {
   "cell_type": "markdown",
   "id": "d4a7bbec",
   "metadata": {},
   "source": [
    "**Answer :-**"
   ]
  },
  {
   "cell_type": "code",
   "execution_count": 4,
   "id": "b41319c6",
   "metadata": {},
   "outputs": [
    {
     "name": "stdout",
     "output_type": "stream",
     "text": [
      "True\n",
      "True\n",
      "False\n"
     ]
    }
   ],
   "source": [
    "def prime(n):\n",
    "    if n == 1:\n",
    "        return False\n",
    "    if n == 2:\n",
    "        return True\n",
    "    else:\n",
    "        for i in range(2,n):\n",
    "            if n % i == 0:\n",
    "                return False\n",
    "            return True\n",
    "\n",
    "print(prime(11))\n",
    "print(prime(56963))\n",
    "print(prime(1234))"
   ]
  },
  {
   "cell_type": "markdown",
   "id": "7c1d06ed",
   "metadata": {},
   "source": [
    "**Q.5.** Create a function that converts a word to a bitstring and then to a boolean\n",
    "list based on the following criteria:\n",
    "1. Locate the position of the letter in the English alphabet (from 1 to 26).\n",
    "2. Odd positions will be represented as 1 and 0 otherwise.\n",
    "3. Convert the represented positions to boolean values, 1 for True and 0\n",
    "for False.\n",
    "4. Store the conversions into an array.\n",
    "\n",
    "Examples\n",
    "\n",
    "to_boolean_list(\"deep\") ➞ [False, True, True, False]\\\n",
    "#deep converts to 0110\\\n",
    "#d is the 4th alphabet - 0\\\n",
    "#e is the 5th alphabet - 1\\\n",
    "#e is the 5th alphabet - 1\\\n",
    "#p is the 16th alphabet - 0\\\n",
    "to_boolean_list(\"loves\") ➞ [False, True, False, True, True]\\\n",
    "to_boolean_list(\"tesh\") ➞ [False, True, True, False]"
   ]
  },
  {
   "cell_type": "markdown",
   "id": "b400573b",
   "metadata": {},
   "source": [
    "**Answer :-**"
   ]
  },
  {
   "cell_type": "code",
   "execution_count": 5,
   "id": "14fde5ab",
   "metadata": {},
   "outputs": [
    {
     "name": "stdout",
     "output_type": "stream",
     "text": [
      "[False, True, False, True, True]\n",
      "[False, True, True, False]\n",
      "[False, True, True, False]\n"
     ]
    }
   ],
   "source": [
    "def to_boolean(s):\n",
    "    char_list = list(map(chr,range(97,123)))\n",
    "    boolean_list = []\n",
    "    \n",
    "    for letter in s.lower():\n",
    "        if (char_list.index(letter) + 1) % 2 == 0:\n",
    "            boolean_list.append(False)\n",
    "        else:\n",
    "            boolean_list.append(True)\n",
    "            \n",
    "    return boolean_list\n",
    "\n",
    "print(to_boolean(\"loves\"))\n",
    "print(to_boolean(\"tesh\"))\n",
    "print(to_boolean(\"deep\"))"
   ]
  }
 ],
 "metadata": {
  "kernelspec": {
   "display_name": "Python 3",
   "language": "python",
   "name": "python3"
  },
  "language_info": {
   "codemirror_mode": {
    "name": "ipython",
    "version": 3
   },
   "file_extension": ".py",
   "mimetype": "text/x-python",
   "name": "python",
   "nbconvert_exporter": "python",
   "pygments_lexer": "ipython3",
   "version": "3.8.8"
  }
 },
 "nbformat": 4,
 "nbformat_minor": 5
}
